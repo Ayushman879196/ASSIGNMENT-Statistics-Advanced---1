{
  "nbformat": 4,
  "nbformat_minor": 0,
  "metadata": {
    "colab": {
      "provenance": []
    },
    "kernelspec": {
      "name": "python3",
      "display_name": "Python 3"
    },
    "language_info": {
      "name": "python"
    }
  },
  "cells": [
    {
      "cell_type": "markdown",
      "source": [
        "Question 1: What is a random variable in probability theory?\n",
        "\n",
        "ANS. A random variable is a numerical outcome of a random experiment. It assigns a numerical value to\n",
        " each possible event in a sample space. For example, tossing a coin and assigning 1 for heads and\n",
        " 0\n",
        " for tails defines a random variable.\n",
        "\n",
        " Question 2: What are the types of random variables?\n",
        "\n",
        " ANS. Random variables are of two main types: 1. Discrete Random Variables: Take countable values\n",
        " (e.g.,\n",
        " number of heads in coin tosses). 2. Continuous Random Variables: Take infinite values within a\n",
        " range\n",
        " (e.g., height, weight, time).\n",
        "\n",
        " Question 3: Explain the difference between discrete and continuous\n",
        " distributions.\n",
        "\n",
        "ANS. A discrete distribution describes variables with countable outcomes (like the binomial\n",
        " distribution), while a continuous distribution describes variables with uncountably infinite\n",
        " outcomes over an interval (like the normal distribution).\n",
        "\n",
        " Question 4: What is a binomial distribution, and how is it used in probability?\n",
        "\n",
        " ANS. The binomial distribution represents the number of successes in a fixed number of independent\n",
        " Bernoulli trials with constant probability of success. It is used in scenarios like quality control,\n",
        " surveys, and predicting probabilities of discrete outcomes.\n",
        "\n",
        " Question 5: What is the standard normal distribution, and why is it\n",
        " important?\n",
        "\n",
        "ANS. The standard normal distribution is a normal distribution with mean 0 and standard deviation 1. It\n",
        " is important because it provides a reference for standardizing data, making comparisons, and using\n",
        " statistical tables for hypothesis testing.\n",
        "\n",
        " Question 6: What is the Central Limit Theorem (CLT), and why is it critical in\n",
        " statistics?\n",
        "\n",
        " ANS. The CLT states that the sampling distribution of the sample mean approaches a normal distribution\n",
        " as\n",
        " the sample size increases, regardless of the original population distribution. It is critical\n",
        " because it allows us to use normal-based methods for inference.\n",
        "\n",
        "Question 7: What is the significance of confidence intervals in statistical\n",
        " analysis?\n",
        "\n",
        " ANS. Confidence intervals provide a range of values within which the true population parameter is\n",
        " expected to lie with a given level of confidence (e.g., 95%). They measure the precision of\n",
        " estimates and the reliability of statistical conclusions.\n",
        "\n",
        " Question 8: What is the concept of expected value in a probability\n",
        " distribution?\n",
        "\n",
        " ANS. The expected value is the weighted average of all possible values of a random variable, with\n",
        " weights\n",
        " being their probabilities. It represents the long-term average outcome of repeated experiments."
      ],
      "metadata": {
        "id": "b3QMZLMRg6T9"
      }
    },
    {
      "cell_type": "code",
      "source": [
        "# Question 9: Write a Python program to generate 1000 random numbers from\n",
        " #a normal distribution with mean = 50 and standard deviation = 5. Compute its\n",
        "# mean and standard deviation using NumPy, and draw a histogram to\n",
        "# visualize the distribution.\n",
        "\n",
        "\n",
        "import numpy as np\n",
        "import matplotlib.pyplot as plt\n",
        "\n",
        "\n",
        "mean = 50\n",
        "std_dev = 5\n",
        "random_numbers = np.random.normal(mean, std_dev, 1000)\n",
        "\n",
        "computed_mean = np.mean(random_numbers)\n",
        "computed_std_dev = np.std(random_numbers)\n",
        "\n",
        "print(f\"Computed Mean: {computed_mean}\")\n",
        "print(f\"Computed Standard Deviation: {computed_std_dev}\")\n",
        "\n",
        "plt.hist(random_numbers, bins=30, density=True, alpha=0.6, color='g')\n",
        "plt.xlabel(\"Value\")\n",
        "plt.ylabel(\"Frequency\")\n",
        "plt.title(\"Histogram of Random Numbers from Normal Distribution\")\n",
        "plt.show()"
      ],
      "metadata": {
        "colab": {
          "base_uri": "https://localhost:8080/",
          "height": 507
        },
        "id": "t1pZZ2UUieTJ",
        "outputId": "d7e03b76-0e43-4b23-cd7d-181f0ece5e6d"
      },
      "execution_count": null,
      "outputs": [
        {
          "output_type": "stream",
          "name": "stdout",
          "text": [
            "Computed Mean: 50.04144655575271\n",
            "Computed Standard Deviation: 4.82888534790814\n"
          ]
        },
        {
          "output_type": "display_data",
          "data": {
            "text/plain": [
              "<Figure size 640x480 with 1 Axes>"
            ],
            "image/png": "[encoded data removed]"
          },
          "metadata": {}
        }
      ]
    },
    {
      "cell_type": "code",
      "source": [
        "#Question 10: You are working as a data analyst for a retail company. The company has\n",
        "#collected daily sales data for 2 years and wants you to identify the overall sales trend.\n",
        "#daily_sales = [220, 245, 210, 265, 230, 250, 260, 275, 240, 255,\n",
        "#235, 260, 245, 250, 225, 270, 265, 255, 250, 260]\n",
        "#● Explain how you would apply the Central Limit Theorem to estimate the average sales\n",
        "#with a 95% confidence interval.\n",
        "#● Write the Python code to compute the mean sales and its confidence interval.\n",
        "\n"
      ],
      "metadata": {
        "id": "5nTix5atjkW8"
      },
      "execution_count": null,
      "outputs": []
    },
    {
      "cell_type": "code",
      "metadata": {
        "colab": {
          "base_uri": "https://localhost:8080/"
        },
        "id": "e8c87864",
        "outputId": "7748a0f9-57e9-450c-ec9c-0be4f93f8d4d"
      },
      "source": [
        "# Explanation of the Central Limit Theorem and its application to the daily_sales data\n",
        "\n",
        "print(\"Explanation of the Central Limit Theorem (CLT):\")\n",
        "print(\"The Central Limit Theorem states that, for a sufficiently large sample size, the sampling distribution of the sample mean will be approximately normally distributed, regardless of the shape of the original population distribution. This is a fundamental concept in statistics because it allows us to make inferences about a population mean based on a sample mean, even if we don't know the population's distribution.\")\n",
        "print(\"\\nApplying the CLT to the daily_sales data:\")\n",
        "print(\"While the sample size of the daily_sales data (n=20) is relatively small, the principles of the CLT still apply. For smaller sample sizes and when the population standard deviation is unknown (which is the case here), we use the t-distribution instead of the standard normal distribution to construct confidence intervals. The t-distribution accounts for the increased uncertainty due to the smaller sample size and the estimation of the population standard deviation from the sample.\")\n",
        "print(\"\\nRole of the t-distribution:\")\n",
        "print(\"The t-distribution is a probability distribution that is similar in shape to the normal distribution but has heavier tails. This means that there is a greater probability of observing extreme values when using the t-distribution, which is appropriate when dealing with smaller sample sizes. As the sample size increases, the t-distribution approaches the normal distribution.\")"
      ],
      "execution_count": null,
      "outputs": [
        {
          "output_type": "stream",
          "name": "stdout",
          "text": [
            "Explanation of the Central Limit Theorem (CLT):\n",
            "The Central Limit Theorem states that, for a sufficiently large sample size, the sampling distribution of the sample mean will be approximately normally distributed, regardless of the shape of the original population distribution. This is a fundamental concept in statistics because it allows us to make inferences about a population mean based on a sample mean, even if we don't know the population's distribution.\n",
            "\n",
            "Applying the CLT to the daily_sales data:\n",
            "While the sample size of the daily_sales data (n=20) is relatively small, the principles of the CLT still apply. For smaller sample sizes and when the population standard deviation is unknown (which is the case here), we use the t-distribution instead of the standard normal distribution to construct confidence intervals. The t-distribution accounts for the increased uncertainty due to the smaller sample size and the estimation of the population standard deviation from the sample.\n",
            "\n",
            "Role of the t-distribution:\n",
            "The t-distribution is a probability distribution that is similar in shape to the normal distribution but has heavier tails. This means that there is a greater probability of observing extreme values when using the t-distribution, which is appropriate when dealing with smaller sample sizes. As the sample size increases, the t-distribution approaches the normal distribution.\n"
          ]
        }
      ]
    },
    {
      "cell_type": "code",
      "metadata": {
        "colab": {
          "base_uri": "https://localhost:8080/"
        },
        "id": "59d95298",
        "outputId": "2ff96e62-b8a2-475b-89f9-6a57cb611a8f"
      },
      "source": [
        "import numpy as np\n",
        "\n",
        "daily_sales = [220, 245, 210, 265, 230, 250, 260, 275, 240, 255,\n",
        "235, 260, 245, 250, 225, 270, 265, 255, 250, 260]\n",
        "\n",
        "sample_mean = np.mean(daily_sales)\n",
        "sample_std_dev = np.std(daily_sales)\n",
        "\n",
        "print(f\"Sample Mean: {sample_mean}\")\n",
        "print(f\"Sample Standard Deviation: {sample_std_dev}\")"
      ],
      "execution_count": null,
      "outputs": [
        {
          "output_type": "stream",
          "name": "stdout",
          "text": [
            "Sample Mean: 248.25\n",
            "Sample Standard Deviation: 16.82817577754642\n"
          ]
        }
      ]
    },
    {
      "cell_type": "code",
      "metadata": {
        "colab": {
          "base_uri": "https://localhost:8080/"
        },
        "id": "cb825b3f",
        "outputId": "edd32eb9-ffed-4c13-9f6e-904abf8f6ed5"
      },
      "source": [
        "sample_size = len(daily_sales)\n",
        "std_error = sample_std_dev / np.sqrt(sample_size)\n",
        "\n",
        "print(f\"Standard Error: {std_error}\")"
      ],
      "execution_count": null,
      "outputs": [
        {
          "output_type": "stream",
          "name": "stdout",
          "text": [
            "Standard Error: 3.762894497590917\n"
          ]
        }
      ]
    },
    {
      "cell_type": "code",
      "metadata": {
        "colab": {
          "base_uri": "https://localhost:8080/"
        },
        "id": "9599deaa",
        "outputId": "6996aca2-9c4a-4f94-a333-ba2cebe443ce"
      },
      "source": [
        "from scipy.stats import t\n",
        "\n",
        "# Explain why the t-distribution is used\n",
        "print(\"Explanation for using the t-distribution:\")\n",
        "print(\"Since the sample size (n=20) is small (less than 30) and the population standard deviation is unknown, the t-distribution is more appropriate than the z-distribution for determining the critical value for the confidence interval. The t-distribution accounts for the increased uncertainty associated with smaller sample sizes and estimating the population standard deviation from the sample.\")\n",
        "\n",
        "# Calculate the degrees of freedom\n",
        "sample_size = len(daily_sales)\n",
        "degrees_of_freedom = sample_size - 1\n",
        "print(f\"\\nDegrees of Freedom: {degrees_of_freedom}\")\n",
        "\n",
        "# Find the critical t-value for a 95% confidence level (two-tailed)\n",
        "confidence_level = 0.95\n",
        "alpha = 1 - confidence_level\n",
        "alpha_over_2 = alpha / 2\n",
        "\n",
        "critical_t_value = t.ppf(1 - alpha_over_2, degrees_of_freedom)\n",
        "\n",
        "print(f\"Critical t-value for 95% confidence level: {critical_t_value}\")"
      ],
      "execution_count": null,
      "outputs": [
        {
          "output_type": "stream",
          "name": "stdout",
          "text": [
            "Explanation for using the t-distribution:\n",
            "Since the sample size (n=20) is small (less than 30) and the population standard deviation is unknown, the t-distribution is more appropriate than the z-distribution for determining the critical value for the confidence interval. The t-distribution accounts for the increased uncertainty associated with smaller sample sizes and estimating the population standard deviation from the sample.\n",
            "\n",
            "Degrees of Freedom: 19\n",
            "Critical t-value for 95% confidence level: 2.093024054408263\n"
          ]
        }
      ]
    },
    {
      "cell_type": "code",
      "metadata": {
        "colab": {
          "base_uri": "https://localhost:8080/"
        },
        "id": "f43c884e",
        "outputId": "a93d189a-6cf8-4360-eaf8-2998a24d82c6"
      },
      "source": [
        "margin_of_error = critical_t_value * std_error\n",
        "print(f\"Margin of Error: {margin_of_error}\")"
      ],
      "execution_count": null,
      "outputs": [
        {
          "output_type": "stream",
          "name": "stdout",
          "text": [
            "Margin of Error: 7.875828697658285\n"
          ]
        }
      ]
    },
    {
      "cell_type": "code",
      "metadata": {
        "colab": {
          "base_uri": "https://localhost:8080/"
        },
        "id": "fb77443a",
        "outputId": "e2f9aea6-2d40-480b-d04d-8607e15b07ba"
      },
      "source": [
        "lower_bound = sample_mean - margin_of_error\n",
        "upper_bound = sample_mean + margin_of_error\n",
        "\n",
        "print(f\"95% Confidence Interval for Mean Daily Sales: [{lower_bound:.2f}, {upper_bound:.2f}]\")"
      ],
      "execution_count": null,
      "outputs": [
        {
          "output_type": "stream",
          "name": "stdout",
          "text": [
            "95% Confidence Interval for Mean Daily Sales: [240.37, 256.13]\n"
          ]
        }
      ]
    },
    {
      "cell_type": "code",
      "metadata": {
        "colab": {
          "base_uri": "https://localhost:8080/"
        },
        "id": "21914d9b",
        "outputId": "a66a5fa3-d71e-42ca-f38d-2d398f3d7fe4"
      },
      "source": [
        "print(f\"Sample Mean: {sample_mean}\")\n",
        "print(f\"Sample Standard Deviation: {sample_std_dev}\")\n",
        "print(f\"Standard Error: {std_error}\")\n",
        "print(f\"Critical t-value: {critical_t_value}\")\n",
        "print(f\"Margin of Error: {margin_of_error}\")\n",
        "print(f\"95% Confidence Interval: [{lower_bound}, {upper_bound}]\")"
      ],
      "execution_count": null,
      "outputs": [
        {
          "output_type": "stream",
          "name": "stdout",
          "text": [
            "Sample Mean: 248.25\n",
            "Sample Standard Deviation: 16.82817577754642\n",
            "Standard Error: 3.762894497590917\n",
            "Critical t-value: 2.093024054408263\n",
            "Margin of Error: 7.875828697658285\n",
            "95% Confidence Interval: [240.37417130234172, 256.1258286976583]\n"
          ]
        }
      ]
    },
    {
      "cell_type": "markdown",
      "metadata": {
        "id": "62cf2b5d"
      },
      "source": [
        "## Summary:\n",
        "\n",
        "### Data Analysis Key Findings\n",
        "\n",
        "*   The Central Limit Theorem explains that for a sufficiently large sample size, the sampling distribution of the sample mean will be approximately normally distributed.\n",
        "*   For smaller sample sizes (n < 30) and unknown population standard deviation, the t-distribution is used instead of the z-distribution for constructing confidence intervals.\n",
        "*   The sample mean of the daily sales is 248.25.\n",
        "*   The sample standard deviation of the daily sales is approximately 16.83.\n",
        "*   The standard error of the mean is approximately 3.76.\n",
        "*   With a sample size of 20, the degrees of freedom are 19.\n",
        "*   The critical t-value for a 95% confidence level with 19 degrees of freedom is approximately 2.093.\n",
        "*   The margin of error for the 95% confidence interval is approximately 7.88.\n",
        "*   The 95% confidence interval for the true mean daily sales is [240.37, 256.13].\n",
        "\n",
        "### Insights or Next Steps\n",
        "\n",
        "*   We can be 95% confident that the true mean daily sales for this population falls between \\$240.37 and \\$256.13.\n",
        "*   To potentially narrow the confidence interval and get a more precise estimate of the true mean, a larger sample size could be collected.\n"
      ]
    }
  ]
}